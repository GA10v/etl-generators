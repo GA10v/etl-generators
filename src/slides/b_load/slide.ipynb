{
 "cells": [
  {
   "cell_type": "markdown",
   "metadata": {
    "slideshow": {
     "slide_type": "slide"
    }
   },
   "source": [
    "LOAD"
   ]
  },
  {
   "cell_type": "code",
   "execution_count": 2,
   "metadata": {
    "pycharm": {
     "name": "#%%\n"
    },
    "slideshow": {
     "slide_type": "skip"
    }
   },
   "outputs": [],
   "source": [
    "import collections.abc as collections_abc\n",
    "import dataclasses\n",
    "import itertools\n",
    "import typing\n",
    "\n",
    "import faker\n",
    "import more_itertools\n",
    "import psycopg2\n",
    "\n",
    "import settings\n",
    "import utils.profilers as profiler_utils\n",
    "import utils.psycopg2 as psycopg2_utils"
   ]
  },
  {
   "cell_type": "code",
   "execution_count": 3,
   "metadata": {
    "slideshow": {
     "slide_type": "slide"
    }
   },
   "outputs": [],
   "source": [
    "connection = psycopg2.connect(**settings.POSTGRESQL_DATABASE_SETTINGS)"
   ]
  },
  {
   "cell_type": "code",
   "execution_count": 4,
   "metadata": {
    "slideshow": {
     "slide_type": "fragment"
    }
   },
   "outputs": [],
   "source": [
    "def create_tables(connection: psycopg2_utils.Connection) -> None:\n",
    "    with connection.cursor() as cursor:\n",
    "        cursor.execute(\n",
    "            \"\"\"\n",
    "            CREATE TABLE IF NOT EXISTS users(\n",
    "                id serial,\n",
    "                name text NOT NULL,\n",
    "                description text NOT NULL\n",
    "            )\n",
    "            \"\"\"\n",
    "        )\n",
    "    connection.commit()"
   ]
  },
  {
   "cell_type": "code",
   "execution_count": 5,
   "metadata": {
    "slideshow": {
     "slide_type": "fragment"
    }
   },
   "outputs": [],
   "source": [
    "def truncate_tables(connection: psycopg2_utils.Connection) -> None:\n",
    "    with connection.cursor() as cursor:\n",
    "        cursor.execute(\"TRUNCATE users\")\n",
    "    connection.commit()"
   ]
  },
  {
   "cell_type": "code",
   "execution_count": 6,
   "metadata": {
    "slideshow": {
     "slide_type": "fragment"
    }
   },
   "outputs": [],
   "source": [
    "create_tables(connection)"
   ]
  },
  {
   "cell_type": "code",
   "execution_count": 7,
   "metadata": {
    "slideshow": {
     "slide_type": "subslide"
    }
   },
   "outputs": [],
   "source": [
    "@dataclasses.dataclass\n",
    "class User:\n",
    "    name: str\n",
    "    description: str"
   ]
  },
  {
   "cell_type": "code",
   "execution_count": 8,
   "metadata": {
    "slideshow": {
     "slide_type": "fragment"
    }
   },
   "outputs": [],
   "source": [
    "SIZE = 10_000\n",
    "\n",
    "def gen_fake_users() -> collections_abc.Iterator[User]:\n",
    "    fake = faker.Faker()\n",
    "    return (User(name=fake.name(), description=fake.text()) for _ in range(SIZE))"
   ]
  },
  {
   "cell_type": "code",
   "execution_count": 9,
   "metadata": {
    "slideshow": {
     "slide_type": "fragment"
    }
   },
   "outputs": [],
   "source": [
    "ExecuteType = collections_abc.Callable[[psycopg2_utils.Connection, typing.Iterator[User]], None]\n",
    "\n",
    "def run_execution(func: ExecuteType, connection: psycopg2_utils.Connection) -> None:\n",
    "    users = gen_fake_users()\n",
    "    func(connection, users)\n",
    "    truncate_tables(connection)"
   ]
  },
  {
   "cell_type": "code",
   "execution_count": 10,
   "metadata": {
    "slideshow": {
     "slide_type": "slide"
    }
   },
   "outputs": [],
   "source": [
    "@profiler_utils.profile\n",
    "def execute_single(connection: psycopg2_utils.Connection, users: collections_abc.Iterator[User]) -> None:\n",
    "    with connection.cursor() as cursor:\n",
    "        for user in users:\n",
    "            stmt = \"INSERT INTO users (name, description) VALUES (%s, %s)\"\n",
    "            data = (user.name, user.description)\n",
    "            cursor.execute(stmt, data)\n",
    "    connection.commit()"
   ]
  },
  {
   "cell_type": "code",
   "execution_count": 11,
   "metadata": {
    "slideshow": {
     "slide_type": "fragment"
    }
   },
   "outputs": [],
   "source": [
    "@profiler_utils.profile\n",
    "def executemany(connection: psycopg2_utils.Connection, users: collections_abc.Iterator[User]) -> None:\n",
    "    with connection.cursor() as cursor:\n",
    "        stmt = \"INSERT INTO users (name, description) VALUES (%s, %s)\"\n",
    "        data = [(user.name, user.description) for user in users]\n",
    "        cursor.executemany(stmt, data)\n",
    "    connection.commit()"
   ]
  },
  {
   "cell_type": "code",
   "execution_count": 12,
   "metadata": {
    "slideshow": {
     "slide_type": "fragment"
    }
   },
   "outputs": [],
   "source": [
    "@profiler_utils.profile\n",
    "def execute_single_query(connection: psycopg2_utils.Connection, users: collections_abc.Iterator[User]) -> None:\n",
    "    data = list(itertools.chain.from_iterable((user.name, user.description) for user in users))\n",
    "    stmt = f\"INSERT INTO users (name, description) VALUES {','.join('(%s, %s)' for _ in range(len(data)//2))}\"\n",
    "    with connection.cursor() as cursor:\n",
    "        cursor.execute(stmt, data)\n",
    "    connection.commit()"
   ]
  },
  {
   "cell_type": "code",
   "execution_count": 13,
   "metadata": {
    "slideshow": {
     "slide_type": "subslide"
    }
   },
   "outputs": [
    {
     "name": "stdout",
     "output_type": "stream",
     "text": [
      "execute_single:\n",
      " max_memory: 0.112 mb\n",
      " exec time: 16,300.990 ms\n"
     ]
    }
   ],
   "source": [
    "run_execution(execute_single, connection)"
   ]
  },
  {
   "cell_type": "code",
   "execution_count": 14,
   "metadata": {
    "slideshow": {
     "slide_type": "fragment"
    }
   },
   "outputs": [
    {
     "name": "stdout",
     "output_type": "stream",
     "text": [
      "executemany:\n",
      " max_memory: 3.223 mb\n",
      " exec time: 12,261.426 ms\n"
     ]
    }
   ],
   "source": [
    "run_execution(executemany, connection)"
   ]
  },
  {
   "cell_type": "code",
   "execution_count": 15,
   "metadata": {
    "slideshow": {
     "slide_type": "fragment"
    }
   },
   "outputs": [
    {
     "name": "stdout",
     "output_type": "stream",
     "text": [
      "execute_single_query:\n",
      " max_memory: 7.174 mb\n",
      " exec time: 11,366.399 ms\n"
     ]
    }
   ],
   "source": [
    "run_execution(execute_single_query, connection)"
   ]
  },
  {
   "cell_type": "code",
   "execution_count": 16,
   "metadata": {
    "slideshow": {
     "slide_type": "slide"
    }
   },
   "outputs": [],
   "source": [
    "CHUNK_SIZE = 500"
   ]
  },
  {
   "cell_type": "code",
   "execution_count": 17,
   "metadata": {
    "slideshow": {
     "slide_type": "fragment"
    }
   },
   "outputs": [],
   "source": [
    "@profiler_utils.profile\n",
    "def execute_chunks(connection: psycopg2_utils.Connection, users: collections_abc.Iterator[User]) -> None:\n",
    "    stmt = \"INSERT INTO users (name, description) VALUES (%s, %s)\"\n",
    "    with connection.cursor() as cursor:\n",
    "        for user_chunk in more_itertools.ichunked(users, CHUNK_SIZE):\n",
    "            for user in user_chunk:\n",
    "                data = (user.name, user.description)\n",
    "                cursor.execute(stmt, data)\n",
    "            connection.commit()"
   ]
  },
  {
   "cell_type": "code",
   "execution_count": 18,
   "metadata": {
    "slideshow": {
     "slide_type": "fragment"
    }
   },
   "outputs": [],
   "source": [
    "@profiler_utils.profile\n",
    "def executemany_chunks(connection: psycopg2_utils.Connection, users: collections_abc.Iterator[User]) -> None:\n",
    "    stmt = \"INSERT INTO users (name, description) VALUES (%s, %s)\"\n",
    "    with connection.cursor() as cursor:\n",
    "        for user_chunk in more_itertools.ichunked(users, CHUNK_SIZE):\n",
    "            data = [(user.name, user.description) for user in user_chunk]\n",
    "            cursor.executemany(stmt, data)\n",
    "            connection.commit()"
   ]
  },
  {
   "cell_type": "code",
   "execution_count": 19,
   "metadata": {
    "slideshow": {
     "slide_type": "fragment"
    }
   },
   "outputs": [],
   "source": [
    "@profiler_utils.profile\n",
    "def execute_single_query_chunks(connection: psycopg2_utils.Connection, users: collections_abc.Iterator[User]) -> None:\n",
    "    with connection.cursor() as cursor:\n",
    "        for user_chunk in more_itertools.ichunked(users, CHUNK_SIZE):\n",
    "            data = list(itertools.chain.from_iterable((user.name, user.description) for user in user_chunk))\n",
    "            stmt = f\"INSERT INTO users (name, description) VALUES {','.join('(%s, %s)' for _ in range(len(data)//2))}\"\n",
    "            cursor.execute(stmt, data)\n",
    "            connection.commit()"
   ]
  },
  {
   "cell_type": "code",
   "execution_count": 20,
   "metadata": {
    "slideshow": {
     "slide_type": "subslide"
    }
   },
   "outputs": [
    {
     "name": "stdout",
     "output_type": "stream",
     "text": [
      "execute_single:\n",
      " max_memory: 0.071 mb\n",
      " exec time: 15,890.040 ms\n"
     ]
    }
   ],
   "source": [
    "run_execution(execute_single, connection)"
   ]
  },
  {
   "cell_type": "code",
   "execution_count": 21,
   "metadata": {
    "slideshow": {
     "slide_type": "fragment"
    }
   },
   "outputs": [
    {
     "name": "stdout",
     "output_type": "stream",
     "text": [
      "execute_chunks:\n",
      " max_memory: 0.066 mb\n",
      " exec time: 15,864.328 ms\n"
     ]
    }
   ],
   "source": [
    "run_execution(execute_chunks, connection)"
   ]
  },
  {
   "cell_type": "code",
   "execution_count": 22,
   "metadata": {
    "slideshow": {
     "slide_type": "fragment"
    }
   },
   "outputs": [
    {
     "name": "stdout",
     "output_type": "stream",
     "text": [
      "executemany_chunks:\n",
      " max_memory: 0.359 mb\n",
      " exec time: 12,616.776 ms\n"
     ]
    }
   ],
   "source": [
    "run_execution(executemany_chunks, connection)"
   ]
  },
  {
   "cell_type": "code",
   "execution_count": 23,
   "metadata": {
    "slideshow": {
     "slide_type": "fragment"
    }
   },
   "outputs": [
    {
     "name": "stdout",
     "output_type": "stream",
     "text": [
      "execute_single_query_chunks:\n",
      " max_memory: 0.476 mb\n",
      " exec time: 11,987.098 ms\n"
     ]
    }
   ],
   "source": [
    "run_execution(execute_single_query_chunks, connection)"
   ]
  },
  {
   "cell_type": "code",
   "execution_count": 24,
   "metadata": {
    "pycharm": {
     "name": "#%%\n"
    },
    "slideshow": {
     "slide_type": "skip"
    }
   },
   "outputs": [],
   "source": [
    "def drop_tables(connection: psycopg2_utils.Connection) -> None:\n",
    "    with connection.cursor() as cursor:\n",
    "        cursor.execute(\"TRUNCATE users\")\n",
    "    connection.commit()\n",
    "\n",
    "drop_tables(connection)\n"
   ]
  }
 ],
 "metadata": {
  "celltoolbar": "Slideshow",
  "kernelspec": {
   "display_name": "Python 3 (ipykernel)",
   "language": "python",
   "name": "python3"
  },
  "language_info": {
   "codemirror_mode": {
    "name": "ipython",
    "version": 3
   },
   "file_extension": ".py",
   "mimetype": "text/x-python",
   "name": "python",
   "nbconvert_exporter": "python",
   "pygments_lexer": "ipython3",
   "version": "3.10.4"
  }
 },
 "nbformat": 4,
 "nbformat_minor": 1
}
