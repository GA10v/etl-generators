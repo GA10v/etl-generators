{
 "cells": [
  {
   "cell_type": "markdown",
   "metadata": {
    "slideshow": {
     "slide_type": "slide"
    }
   },
   "source": [
    "TRANSFORM"
   ]
  },
  {
   "cell_type": "code",
   "execution_count": 2,
   "metadata": {
    "pycharm": {
     "name": "#%%\n"
    },
    "slideshow": {
     "slide_type": "skip"
    }
   },
   "outputs": [],
   "source": [
    "import collections.abc as collections_abc\n",
    "import dataclasses\n",
    "import itertools\n",
    "import random\n",
    "import typing\n",
    "\n",
    "import faker\n",
    "import more_itertools"
   ]
  },
  {
   "cell_type": "code",
   "execution_count": 3,
   "metadata": {
    "slideshow": {
     "slide_type": "slide"
    }
   },
   "outputs": [],
   "source": [
    "def print_iterable(items: collections_abc.Iterable[typing.Any]) -> None:\n",
    "    for item in items:\n",
    "        print(item)"
   ]
  },
  {
   "cell_type": "code",
   "execution_count": 4,
   "metadata": {
    "slideshow": {
     "slide_type": "fragment"
    }
   },
   "outputs": [],
   "source": [
    "@dataclasses.dataclass\n",
    "class User:\n",
    "    id: int\n",
    "    emails: list[str]"
   ]
  },
  {
   "cell_type": "code",
   "execution_count": 5,
   "metadata": {
    "slideshow": {
     "slide_type": "fragment"
    }
   },
   "outputs": [],
   "source": [
    "@dataclasses.dataclass\n",
    "class UserEmail:\n",
    "    user_id: int\n",
    "    email: str"
   ]
  },
  {
   "cell_type": "code",
   "execution_count": 6,
   "metadata": {
    "slideshow": {
     "slide_type": "fragment"
    }
   },
   "outputs": [],
   "source": [
    "def gen_fake_users() -> collections_abc.Iterator[User]:\n",
    "    fake = faker.Faker()\n",
    "    for _id in range(0, 5):\n",
    "        yield User(id=_id, emails=[fake.email() for _ in range(random.randrange(3, 5))])"
   ]
  },
  {
   "cell_type": "code",
   "execution_count": 7,
   "metadata": {
    "slideshow": {
     "slide_type": "fragment"
    }
   },
   "outputs": [],
   "source": [
    "def gen_fake_user_emails() -> collections_abc.Iterator[UserEmail]:\n",
    "    fake = faker.Faker()\n",
    "    for user_id in range(0, 5):\n",
    "        for _ in range(random.randrange(3, 5)):\n",
    "            yield UserEmail(user_id=user_id, email=fake.email())"
   ]
  },
  {
   "cell_type": "markdown",
   "metadata": {
    "slideshow": {
     "slide_type": "slide"
    }
   },
   "source": [
    "UNPACK"
   ]
  },
  {
   "cell_type": "code",
   "execution_count": 8,
   "metadata": {
    "slideshow": {
     "slide_type": "fragment"
    }
   },
   "outputs": [],
   "source": [
    "def transform_user_to_user_email(users: collections_abc.Iterable[User]) -> collections_abc.Iterator[UserEmail]:\n",
    "    for user in users:\n",
    "        for email in user.emails:\n",
    "            yield UserEmail(user_id=user.id, email=email)"
   ]
  },
  {
   "cell_type": "code",
   "execution_count": 9,
   "metadata": {
    "scrolled": true,
    "slideshow": {
     "slide_type": "subslide"
    }
   },
   "outputs": [
    {
     "name": "stdout",
     "output_type": "stream",
     "text": [
      "User(id=0, emails=['dana74@example.net', 'nlong@example.org', 'fitzgeralddaisy@example.net'])\n",
      "User(id=1, emails=['drakebrianna@example.net', 'rcampbell@example.com', 'amber48@example.net', 'nguyenseth@example.com'])\n",
      "User(id=2, emails=['wrodriguez@example.org', 'christina22@example.net', 'ljohnson@example.com', 'christopher65@example.org'])\n",
      "User(id=3, emails=['lesterandrew@example.com', 'kylie52@example.net', 'sheena52@example.net'])\n",
      "User(id=4, emails=['todd89@example.net', 'walshashley@example.com', 'robinsontricia@example.org', 'hernandezantonio@example.net'])\n"
     ]
    }
   ],
   "source": [
    "users = list(gen_fake_users())\n",
    "print_iterable(users)"
   ]
  },
  {
   "cell_type": "code",
   "execution_count": 10,
   "metadata": {
    "slideshow": {
     "slide_type": "fragment"
    }
   },
   "outputs": [
    {
     "name": "stdout",
     "output_type": "stream",
     "text": [
      "UserEmail(user_id=0, email='dana74@example.net')\n",
      "UserEmail(user_id=0, email='nlong@example.org')\n",
      "UserEmail(user_id=0, email='fitzgeralddaisy@example.net')\n",
      "UserEmail(user_id=1, email='drakebrianna@example.net')\n",
      "UserEmail(user_id=1, email='rcampbell@example.com')\n",
      "UserEmail(user_id=1, email='amber48@example.net')\n",
      "UserEmail(user_id=1, email='nguyenseth@example.com')\n",
      "UserEmail(user_id=2, email='wrodriguez@example.org')\n",
      "UserEmail(user_id=2, email='christina22@example.net')\n",
      "UserEmail(user_id=2, email='ljohnson@example.com')\n",
      "UserEmail(user_id=2, email='christopher65@example.org')\n",
      "UserEmail(user_id=3, email='lesterandrew@example.com')\n",
      "UserEmail(user_id=3, email='kylie52@example.net')\n",
      "UserEmail(user_id=3, email='sheena52@example.net')\n",
      "UserEmail(user_id=4, email='todd89@example.net')\n",
      "UserEmail(user_id=4, email='walshashley@example.com')\n",
      "UserEmail(user_id=4, email='robinsontricia@example.org')\n",
      "UserEmail(user_id=4, email='hernandezantonio@example.net')\n"
     ]
    }
   ],
   "source": [
    "user_emails = transform_user_to_user_email(users)\n",
    "print_iterable(user_emails)"
   ]
  },
  {
   "cell_type": "markdown",
   "metadata": {
    "pycharm": {
     "name": "#%% md\n"
    },
    "slideshow": {
     "slide_type": "slide"
    }
   },
   "source": [
    "SQUASH"
   ]
  },
  {
   "cell_type": "code",
   "execution_count": 11,
   "metadata": {
    "pycharm": {
     "name": "#%%\n"
    },
    "slideshow": {
     "slide_type": "fragment"
    }
   },
   "outputs": [],
   "source": [
    "def transform_user_email_to_user(user_emails: collections_abc.Iterable[UserEmail]) -> collections_abc.Iterator[User]:\n",
    "    current_user: typing.Optional[User] = None\n",
    "    for user_email in user_emails:\n",
    "        if current_user and current_user.id != user_email.user_id:\n",
    "            yield current_user\n",
    "            current_user = None\n",
    "        if current_user is None:\n",
    "            current_user = User(id=user_email.user_id, emails=[])\n",
    "        current_user.emails.append(user_email.email)\n",
    "    if current_user:\n",
    "        yield current_user"
   ]
  },
  {
   "cell_type": "code",
   "execution_count": 12,
   "metadata": {
    "pycharm": {
     "name": "#%%\n"
    },
    "slideshow": {
     "slide_type": "subslide"
    }
   },
   "outputs": [
    {
     "name": "stdout",
     "output_type": "stream",
     "text": [
      "UserEmail(user_id=0, email='wthompson@example.com')\n",
      "UserEmail(user_id=0, email='guzmanmichelle@example.com')\n",
      "UserEmail(user_id=0, email='lanetimothy@example.com')\n",
      "UserEmail(user_id=1, email='anthonychavez@example.com')\n",
      "UserEmail(user_id=1, email='sarahcox@example.com')\n",
      "UserEmail(user_id=1, email='veronicaharris@example.com')\n",
      "UserEmail(user_id=1, email='myerswilliam@example.com')\n",
      "UserEmail(user_id=2, email='davidfoley@example.net')\n",
      "UserEmail(user_id=2, email='janetrussell@example.org')\n",
      "UserEmail(user_id=2, email='curryautumn@example.org')\n",
      "UserEmail(user_id=3, email='lance86@example.com')\n",
      "UserEmail(user_id=3, email='christophergonzalez@example.com')\n",
      "UserEmail(user_id=3, email='james32@example.org')\n",
      "UserEmail(user_id=3, email='vanessa17@example.net')\n",
      "UserEmail(user_id=4, email='joelspencer@example.net')\n",
      "UserEmail(user_id=4, email='garciamatthew@example.com')\n",
      "UserEmail(user_id=4, email='larrymahoney@example.com')\n"
     ]
    }
   ],
   "source": [
    "user_emails = list(gen_fake_user_emails())\n",
    "print_iterable(user_emails)"
   ]
  },
  {
   "cell_type": "code",
   "execution_count": 13,
   "metadata": {
    "pycharm": {
     "name": "#%%\n"
    },
    "slideshow": {
     "slide_type": "fragment"
    }
   },
   "outputs": [
    {
     "name": "stdout",
     "output_type": "stream",
     "text": [
      "User(id=0, emails=['wthompson@example.com', 'guzmanmichelle@example.com', 'lanetimothy@example.com'])\n",
      "User(id=1, emails=['anthonychavez@example.com', 'sarahcox@example.com', 'veronicaharris@example.com', 'myerswilliam@example.com'])\n",
      "User(id=2, emails=['davidfoley@example.net', 'janetrussell@example.org', 'curryautumn@example.org'])\n",
      "User(id=3, emails=['lance86@example.com', 'christophergonzalez@example.com', 'james32@example.org', 'vanessa17@example.net'])\n",
      "User(id=4, emails=['joelspencer@example.net', 'garciamatthew@example.com', 'larrymahoney@example.com'])\n"
     ]
    }
   ],
   "source": [
    "users = transform_user_email_to_user(user_emails)\n",
    "print_iterable(users)"
   ]
  },
  {
   "cell_type": "markdown",
   "metadata": {
    "pycharm": {
     "name": "#%% md\n"
    },
    "slideshow": {
     "slide_type": "slide"
    }
   },
   "source": [
    "CHUNK"
   ]
  },
  {
   "cell_type": "code",
   "execution_count": 14,
   "metadata": {
    "pycharm": {
     "name": "#%%\n"
    },
    "slideshow": {
     "slide_type": "fragment"
    }
   },
   "outputs": [
    {
     "name": "stdout",
     "output_type": "stream",
     "text": [
      "[0, 1, 2, 3, 4, 5, 6, 7, 8, 9, 10, 11, 12, 13, 14, 15, 16, 17, 18, 19]\n",
      "[20, 21, 22, 23, 24, 25, 26, 27, 28, 29, 30, 31, 32, 33, 34, 35, 36, 37, 38, 39]\n",
      "[40, 41, 42, 43, 44, 45, 46, 47, 48, 49, 50, 51, 52, 53, 54, 55, 56, 57, 58, 59]\n",
      "[60, 61, 62, 63, 64, 65, 66, 67, 68, 69, 70, 71, 72, 73, 74, 75, 76, 77, 78, 79]\n",
      "[80, 81, 82, 83, 84, 85, 86, 87, 88, 89, 90, 91, 92, 93, 94]\n"
     ]
    }
   ],
   "source": [
    "chunked_items = more_itertools.chunked(iterable=range(95), n=20)\n",
    "print_iterable(chunked_items)"
   ]
  },
  {
   "cell_type": "code",
   "execution_count": 15,
   "metadata": {
    "pycharm": {
     "name": "#%%\n"
    },
    "slideshow": {
     "slide_type": "fragment"
    }
   },
   "outputs": [
    {
     "name": "stdout",
     "output_type": "stream",
     "text": [
      "<more_itertools.more._IChunk object at 0x7f0c544759f0>\n",
      "<more_itertools.more._IChunk object at 0x7f0c544753f0>\n",
      "<more_itertools.more._IChunk object at 0x7f0c544759f0>\n",
      "<more_itertools.more._IChunk object at 0x7f0c544753f0>\n",
      "<more_itertools.more._IChunk object at 0x7f0c544759f0>\n"
     ]
    }
   ],
   "source": [
    "chunked_items = more_itertools.ichunked(iterable=range(95), n=20)\n",
    "print_iterable(chunked_items)"
   ]
  },
  {
   "cell_type": "markdown",
   "metadata": {
    "pycharm": {
     "name": "#%% md\n"
    },
    "slideshow": {
     "slide_type": "slide"
    }
   },
   "source": [
    "CHAIN"
   ]
  },
  {
   "cell_type": "code",
   "execution_count": 16,
   "metadata": {
    "pycharm": {
     "name": "#%%\n"
    },
    "slideshow": {
     "slide_type": "fragment"
    }
   },
   "outputs": [
    {
     "name": "stdout",
     "output_type": "stream",
     "text": [
      "[0, 1, 2]\n",
      "[3, 4, 5]\n",
      "[6]\n"
     ]
    }
   ],
   "source": [
    "chunked = more_itertools.chunked(iterable=range(7), n=3)\n",
    "print_iterable(chunked)"
   ]
  },
  {
   "cell_type": "code",
   "execution_count": 17,
   "metadata": {
    "pycharm": {
     "name": "#%%\n"
    },
    "slideshow": {
     "slide_type": "fragment"
    }
   },
   "outputs": [
    {
     "name": "stdout",
     "output_type": "stream",
     "text": [
      "0\n",
      "1\n",
      "2\n",
      "3\n",
      "4\n",
      "5\n",
      "6\n"
     ]
    }
   ],
   "source": [
    "chunked = more_itertools.chunked(iterable=range(7), n=3)\n",
    "items = itertools.chain(*chunked)\n",
    "print_iterable(items)"
   ]
  },
  {
   "cell_type": "code",
   "execution_count": 18,
   "metadata": {
    "pycharm": {
     "name": "#%%\n"
    },
    "slideshow": {
     "slide_type": "subslide"
    }
   },
   "outputs": [
    {
     "name": "stdout",
     "output_type": "stream",
     "text": [
      "0\n",
      "1\n",
      "2\n",
      "3\n",
      "4\n",
      "5\n",
      "6\n"
     ]
    }
   ],
   "source": [
    "chunked = more_itertools.ichunked(iterable=range(7), n=3)\n",
    "items = itertools.chain(*chunked)\n",
    "print_iterable(items)"
   ]
  },
  {
   "cell_type": "code",
   "execution_count": 19,
   "metadata": {
    "pycharm": {
     "name": "#%%\n"
    },
    "slideshow": {
     "slide_type": "fragment"
    }
   },
   "outputs": [
    {
     "name": "stdout",
     "output_type": "stream",
     "text": [
      "0\n",
      "1\n",
      "2\n",
      "3\n",
      "4\n",
      "5\n",
      "6\n"
     ]
    }
   ],
   "source": [
    "chunked = more_itertools.ichunked(iterable=range(7), n=3)\n",
    "items = itertools.chain.from_iterable(chunked)\n",
    "print_iterable(items)"
   ]
  },
  {
   "cell_type": "markdown",
   "metadata": {
    "pycharm": {
     "name": "#%% md\n"
    },
    "slideshow": {
     "slide_type": "slide"
    }
   },
   "source": [
    "FILTER"
   ]
  },
  {
   "cell_type": "code",
   "execution_count": 20,
   "metadata": {
    "pycharm": {
     "name": "#%%\n"
    },
    "slideshow": {
     "slide_type": "fragment"
    }
   },
   "outputs": [],
   "source": [
    "def filter_even_id(users: collections_abc.Iterable[User]) -> collections_abc.Iterator[User]:\n",
    "    for user in users:\n",
    "        if user.id % 2 == 0:\n",
    "            continue\n",
    "        yield user"
   ]
  },
  {
   "cell_type": "code",
   "execution_count": 21,
   "metadata": {
    "pycharm": {
     "name": "#%%\n"
    },
    "slideshow": {
     "slide_type": "subslide"
    }
   },
   "outputs": [
    {
     "name": "stdout",
     "output_type": "stream",
     "text": [
      "User(id=0, emails=['andrea61@example.net', 'dalton54@example.org', 'taylorkelly@example.com'])\n",
      "User(id=1, emails=['andrealee@example.org', 'collinsvictor@example.com', 'joshua59@example.com'])\n",
      "User(id=2, emails=['james85@example.com', 'micheleestes@example.org', 'carlos28@example.com'])\n",
      "User(id=3, emails=['htaylor@example.net', 'devon02@example.net', 'smithmichelle@example.org', 'lspencer@example.net'])\n",
      "User(id=4, emails=['kevin68@example.com', 'rachel14@example.com', 'bellchelsea@example.org', 'lisachambers@example.com'])\n"
     ]
    }
   ],
   "source": [
    "users = list(gen_fake_users())\n",
    "print_iterable(users)"
   ]
  },
  {
   "cell_type": "code",
   "execution_count": 22,
   "metadata": {
    "pycharm": {
     "name": "#%%\n"
    },
    "slideshow": {
     "slide_type": "fragment"
    }
   },
   "outputs": [
    {
     "name": "stdout",
     "output_type": "stream",
     "text": [
      "User(id=1, emails=['andrealee@example.org', 'collinsvictor@example.com', 'joshua59@example.com'])\n",
      "User(id=3, emails=['htaylor@example.net', 'devon02@example.net', 'smithmichelle@example.org', 'lspencer@example.net'])\n"
     ]
    }
   ],
   "source": [
    "filtered_users = filter_even_id(users)\n",
    "print_iterable(filtered_users)"
   ]
  },
  {
   "cell_type": "code",
   "execution_count": 23,
   "metadata": {
    "pycharm": {
     "name": "#%%\n"
    },
    "slideshow": {
     "slide_type": "slide"
    }
   },
   "outputs": [],
   "source": [
    "T = typing.TypeVar(\"T\")\n",
    "\n",
    "\n",
    "def safe_next(iterator: collections_abc.Iterator[T]) -> typing.Optional[T]:\n",
    "    try:\n",
    "        return next(iterator)\n",
    "    except StopIteration:\n",
    "        return None"
   ]
  },
  {
   "cell_type": "markdown",
   "metadata": {
    "pycharm": {
     "name": "#%% md\n"
    },
    "slideshow": {
     "slide_type": "slide"
    }
   },
   "source": [
    "MERGE ITERATORS"
   ]
  },
  {
   "cell_type": "code",
   "execution_count": 24,
   "metadata": {
    "pycharm": {
     "name": "#%%\n"
    },
    "slideshow": {
     "slide_type": "fragment"
    }
   },
   "outputs": [],
   "source": [
    "def merge_emails(\n",
    "    email_iter1: collections_abc.Iterator[UserEmail],\n",
    "    email_iter2: collections_abc.Iterator[UserEmail],\n",
    ") -> collections_abc.Iterator[UserEmail]:\n",
    "    email1: typing.Optional[UserEmail] = None\n",
    "    email2: typing.Optional[UserEmail] = None\n",
    "\n",
    "    while True:\n",
    "        email1 = email1 or safe_next(email_iter1)\n",
    "        if email1 is None:\n",
    "            yield from email_iter2\n",
    "            return\n",
    "        email2 = email2 or safe_next(email_iter2)\n",
    "        if email2 is None:\n",
    "            yield from email_iter1\n",
    "            return\n",
    "\n",
    "        if email2.user_id > email1.user_id:\n",
    "            yield email1\n",
    "            email1 = None\n",
    "        else:\n",
    "            yield email2\n",
    "            email2 = None"
   ]
  },
  {
   "cell_type": "code",
   "execution_count": 25,
   "metadata": {
    "pycharm": {
     "name": "#%%\n"
    },
    "slideshow": {
     "slide_type": "subslide"
    }
   },
   "outputs": [],
   "source": [
    "emails1 = gen_fake_user_emails()\n",
    "emails2 = gen_fake_user_emails()"
   ]
  },
  {
   "cell_type": "code",
   "execution_count": 26,
   "metadata": {
    "pycharm": {
     "name": "#%%\n"
    },
    "slideshow": {
     "slide_type": "fragment"
    }
   },
   "outputs": [
    {
     "name": "stdout",
     "output_type": "stream",
     "text": [
      "UserEmail(user_id=0, email='nicole02@example.com')\n",
      "UserEmail(user_id=0, email='whitney33@example.com')\n",
      "UserEmail(user_id=0, email='erin65@example.org')\n",
      "UserEmail(user_id=0, email='rmiller@example.org')\n",
      "UserEmail(user_id=0, email='johnsonstephanie@example.net')\n",
      "UserEmail(user_id=0, email='steve33@example.net')\n",
      "UserEmail(user_id=0, email='matthewmiller@example.org')\n",
      "UserEmail(user_id=1, email='whall@example.net')\n",
      "UserEmail(user_id=1, email='robertflores@example.org')\n",
      "UserEmail(user_id=1, email='amy79@example.org')\n",
      "UserEmail(user_id=1, email='slee@example.org')\n",
      "UserEmail(user_id=1, email='marcday@example.com')\n",
      "UserEmail(user_id=1, email='susan02@example.net')\n",
      "UserEmail(user_id=1, email='bestes@example.com')\n",
      "UserEmail(user_id=2, email='fwhite@example.org')\n",
      "UserEmail(user_id=2, email='oliverkeith@example.net')\n",
      "UserEmail(user_id=2, email='anndiaz@example.com')\n",
      "UserEmail(user_id=2, email='ywest@example.net')\n",
      "UserEmail(user_id=2, email='victorgonzalez@example.net')\n",
      "UserEmail(user_id=2, email='jodyhall@example.com')\n",
      "UserEmail(user_id=3, email='juliegreen@example.com')\n",
      "UserEmail(user_id=3, email='robyn69@example.org')\n",
      "UserEmail(user_id=3, email='ukelley@example.com')\n",
      "UserEmail(user_id=3, email='lori57@example.net')\n",
      "UserEmail(user_id=3, email='welchjerry@example.com')\n",
      "UserEmail(user_id=3, email='allison72@example.com')\n",
      "UserEmail(user_id=3, email='khuerta@example.org')\n",
      "UserEmail(user_id=4, email='wilsontonya@example.net')\n",
      "UserEmail(user_id=4, email='smithsarah@example.net')\n",
      "UserEmail(user_id=4, email='katelyngonzalez@example.net')\n",
      "UserEmail(user_id=4, email='xmcdonald@example.com')\n",
      "UserEmail(user_id=4, email='igonzalez@example.org')\n",
      "UserEmail(user_id=4, email='tammy05@example.net')\n"
     ]
    }
   ],
   "source": [
    "emails = merge_emails(emails1, emails2)\n",
    "print_iterable(emails)"
   ]
  },
  {
   "cell_type": "markdown",
   "metadata": {
    "pycharm": {
     "name": "#%% md\n"
    },
    "slideshow": {
     "slide_type": "slide"
    }
   },
   "source": [
    "MERGE ITEMS IN ITERATORS"
   ]
  },
  {
   "cell_type": "code",
   "execution_count": 27,
   "metadata": {
    "pycharm": {
     "name": "#%%\n"
    },
    "slideshow": {
     "slide_type": "fragment"
    }
   },
   "outputs": [],
   "source": [
    "def merge_users(\n",
    "    user_iter1: collections_abc.Iterator[User],\n",
    "    user_iter2: collections_abc.Iterator[User],\n",
    ") -> collections_abc.Iterator[User]:\n",
    "    user1: typing.Optional[User] = None\n",
    "    user2: typing.Optional[User] = None\n",
    "\n",
    "    while True:\n",
    "        user1 = user1 or safe_next(user_iter1)\n",
    "        if user1 is None:\n",
    "            yield from user_iter2\n",
    "            return\n",
    "        user2 = user2 or safe_next(user_iter2)\n",
    "        if user2 is None:\n",
    "            yield from user_iter1\n",
    "            return\n",
    "\n",
    "        if user1.id > user2.id:\n",
    "            yield user2\n",
    "            user2 = None\n",
    "        elif user1.id < user2.id:\n",
    "            yield user1\n",
    "            user1 = None\n",
    "        else:\n",
    "            yield User(id=user1.id, emails=user1.emails + user2.emails)\n",
    "            user1 = None\n",
    "            user2 = None"
   ]
  },
  {
   "cell_type": "code",
   "execution_count": 28,
   "metadata": {
    "pycharm": {
     "name": "#%%\n"
    },
    "slideshow": {
     "slide_type": "subslide"
    }
   },
   "outputs": [],
   "source": [
    "users1 = gen_fake_users()\n",
    "users2 = gen_fake_users()"
   ]
  },
  {
   "cell_type": "code",
   "execution_count": 29,
   "metadata": {
    "pycharm": {
     "name": "#%%\n"
    },
    "slideshow": {
     "slide_type": "fragment"
    }
   },
   "outputs": [
    {
     "name": "stdout",
     "output_type": "stream",
     "text": [
      "User(id=0, emails=['katherine21@example.net', 'kenneth97@example.net', 'castroann@example.com', 'vyang@example.com', 'eblair@example.org', 'osbornraymond@example.com', 'joycechristopher@example.net'])\n",
      "User(id=1, emails=['onguyen@example.com', 'colemananna@example.com', 'bradleyjeffrey@example.com', 'adam05@example.com', 'johnsonmatthew@example.com', 'lorrainefloyd@example.net'])\n",
      "User(id=2, emails=['greenkenneth@example.net', 'jason86@example.net', 'carolyngardner@example.net', 'bmiller@example.org', 'esparzaamy@example.org', 'moorerachael@example.com', 'kristopher73@example.org', 'jennifertaylor@example.net'])\n",
      "User(id=3, emails=['hannah88@example.net', 'kaitlyndean@example.org', 'sandra26@example.net', 'matthewriddle@example.org', 'michael67@example.net', 'alambert@example.org', 'jeffreyjohnson@example.com', 'dproctor@example.org'])\n",
      "User(id=4, emails=['fwalsh@example.org', 'rcabrera@example.com', 'jacob12@example.org', 'michaelpatterson@example.org', 'ramseygary@example.org', 'johnsonphilip@example.net', 'michael18@example.net', 'derek35@example.org'])\n"
     ]
    }
   ],
   "source": [
    "emails = merge_users(users1, users2)\n",
    "print_iterable(emails)"
   ]
  },
  {
   "cell_type": "code",
   "execution_count": 30,
   "metadata": {
    "slideshow": {
     "slide_type": "slide"
    }
   },
   "outputs": [],
   "source": [
    "iter_in = range(0, 200)\n",
    "\n",
    "iter_even_out = ...\n",
    "iter_odd_out = ..."
   ]
  },
  {
   "cell_type": "markdown",
   "metadata": {
    "pycharm": {
     "name": "#%% md\n"
    },
    "slideshow": {
     "slide_type": "slide"
    }
   },
   "source": [
    "¿QUESTIONS?\n"
   ]
  }
 ],
 "metadata": {
  "celltoolbar": "Slideshow",
  "kernelspec": {
   "display_name": "Python 3 (ipykernel)",
   "language": "python",
   "name": "python3"
  },
  "language_info": {
   "codemirror_mode": {
    "name": "ipython",
    "version": 3
   },
   "file_extension": ".py",
   "mimetype": "text/x-python",
   "name": "python",
   "nbconvert_exporter": "python",
   "pygments_lexer": "ipython3",
   "version": "3.10.4"
  }
 },
 "nbformat": 4,
 "nbformat_minor": 1
}
