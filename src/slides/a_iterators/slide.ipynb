{
 "cells": [
  {
   "cell_type": "code",
   "execution_count": null,
   "outputs": [],
   "source": [
    "ITERATORS"
   ],
   "metadata": {
    "collapsed": false,
    "pycharm": {
     "name": "#%%\n"
    }
   }
  },
  {
   "cell_type": "code",
   "execution_count": null,
   "outputs": [],
   "source": [
    "import collections.abc as collections_abc\n",
    "import typing\n",
    "\n",
    "import utils.profilers as profiler_utils\n",
    "\n",
    "T = typing.TypeVar(\"T\")"
   ],
   "metadata": {
    "collapsed": false,
    "pycharm": {
     "name": "#%%\n"
    }
   }
  },
  {
   "cell_type": "code",
   "execution_count": 1,
   "metadata": {
    "pycharm": {
     "name": "#%%\n"
    },
    "slideshow": {
     "slide_type": "skip"
    }
   },
   "outputs": [],
   "source": [
    "import collections.abc as collections_abc\n",
    "import typing\n",
    "\n",
    "import utils.profilers as profiler_utils\n",
    "\n",
    "T = typing.TypeVar(\"T\")"
   ]
  },
  {
   "cell_type": "code",
   "execution_count": 3,
   "metadata": {
    "slideshow": {
     "slide_type": "slide"
    }
   },
   "outputs": [],
   "source": [
    "SIZE = 10_000_000\n",
    "\n",
    "\n",
    "def for_in_range() -> None:\n",
    "    for _ in range(SIZE):\n",
    "        ..."
   ]
  },
  {
   "cell_type": "code",
   "execution_count": 4,
   "metadata": {
    "pycharm": {
     "name": "#%%\n"
    },
    "slideshow": {
     "slide_type": "subslide"
    }
   },
   "outputs": [],
   "source": [
    "import functools\n",
    "import time\n",
    "import tracemalloc\n",
    "import typing\n",
    "\n",
    "\n",
    "def profile(func: typing.Callable) -> typing.Callable:\n",
    "    @functools.wraps(func)\n",
    "    def wrapper(*args: typing.Any, **kwargs: typing.Any) -> typing.Any:\n",
    "        tracemalloc.start()\n",
    "        start = time.time()\n",
    "        result = func(*args, **kwargs)\n",
    "        elapsed_time = (time.time() - start) * 1000\n",
    "        _, mem_peak = tracemalloc.get_traced_memory()\n",
    "        tracemalloc.stop()\n",
    "        print(\n",
    "            f\"{func.__name__}:\\n max_memory: {mem_peak/1000_000:,.3f} mb\\n exec time: {elapsed_time:,.3f} ms\"\n",
    "        )\n",
    "        return result\n",
    "\n",
    "    return wrapper"
   ]
  },
  {
   "cell_type": "code",
   "execution_count": 5,
   "metadata": {
    "slideshow": {
     "slide_type": "subslide"
    }
   },
   "outputs": [],
   "source": [
    "@profiler_utils.profile\n",
    "def for_in_range() -> None:\n",
    "    for _ in range(SIZE):\n",
    "        ..."
   ]
  },
  {
   "cell_type": "code",
   "execution_count": 6,
   "metadata": {
    "pycharm": {
     "name": "#%%\n"
    },
    "slideshow": {
     "slide_type": "fragment"
    }
   },
   "outputs": [
    {
     "name": "stdout",
     "output_type": "stream",
     "text": [
      "for_in_range:\n",
      " max_memory: 0.001 mb\n",
      " exec time: 3,598.857 ms\n"
     ]
    }
   ],
   "source": [
    "for_in_range()"
   ]
  },
  {
   "cell_type": "code",
   "execution_count": 7,
   "metadata": {
    "pycharm": {
     "name": "#%%\n"
    },
    "slideshow": {
     "slide_type": "fragment"
    }
   },
   "outputs": [],
   "source": [
    "@profiler_utils.profile\n",
    "def run_through_iterable(items: collections_abc.Iterable[typing.Any]) -> None:\n",
    "    for _ in items:\n",
    "        ..."
   ]
  },
  {
   "cell_type": "code",
   "execution_count": 8,
   "metadata": {
    "slideshow": {
     "slide_type": "fragment"
    }
   },
   "outputs": [
    {
     "name": "stdout",
     "output_type": "stream",
     "text": [
      "run_through_iterable:\n",
      " max_memory: 0.001 mb\n",
      " exec time: 3,588.717 ms\n"
     ]
    }
   ],
   "source": [
    "run_through_iterable(range(SIZE))"
   ]
  },
  {
   "cell_type": "code",
   "execution_count": 9,
   "metadata": {
    "pycharm": {
     "name": "#%%\n"
    },
    "slideshow": {
     "slide_type": "slide"
    }
   },
   "outputs": [],
   "source": [
    "def range_generator() -> collections_abc.Iterator[int]:\n",
    "    yield from range(SIZE)"
   ]
  },
  {
   "cell_type": "code",
   "execution_count": 10,
   "metadata": {
    "slideshow": {
     "slide_type": "fragment"
    }
   },
   "outputs": [],
   "source": [
    "def list_generator() -> list[int]:\n",
    "    return list(range(SIZE))"
   ]
  },
  {
   "cell_type": "code",
   "execution_count": 11,
   "metadata": {
    "slideshow": {
     "slide_type": "fragment"
    }
   },
   "outputs": [
    {
     "name": "stdout",
     "output_type": "stream",
     "text": [
      "for_in_range:\n",
      " max_memory: 0.001 mb\n",
      " exec time: 3,633.248 ms\n"
     ]
    }
   ],
   "source": [
    "for_in_range()"
   ]
  },
  {
   "cell_type": "code",
   "execution_count": 12,
   "metadata": {
    "pycharm": {
     "name": "#%%\n"
    },
    "slideshow": {
     "slide_type": "fragment"
    }
   },
   "outputs": [
    {
     "name": "stdout",
     "output_type": "stream",
     "text": [
      "run_through_iterable:\n",
      " max_memory: 0.006 mb\n",
      " exec time: 3,905.991 ms\n"
     ]
    }
   ],
   "source": [
    "gen1 = range_generator()\n",
    "run_through_iterable(gen1)"
   ]
  },
  {
   "cell_type": "code",
   "execution_count": 13,
   "metadata": {
    "scrolled": true,
    "slideshow": {
     "slide_type": "fragment"
    }
   },
   "outputs": [
    {
     "name": "stdout",
     "output_type": "stream",
     "text": [
      "run_through_iterable:\n",
      " max_memory: 0.006 mb\n",
      " exec time: 82.593 ms\n"
     ]
    }
   ],
   "source": [
    "gen2 = list_generator()\n",
    "run_through_iterable(gen2)"
   ]
  },
  {
   "cell_type": "code",
   "execution_count": 14,
   "metadata": {
    "slideshow": {
     "slide_type": "subslide"
    }
   },
   "outputs": [],
   "source": [
    "@profiler_utils.profile\n",
    "def range_generator() -> collections_abc.Iterator[int]:\n",
    "    yield from range(SIZE)"
   ]
  },
  {
   "cell_type": "code",
   "execution_count": 15,
   "metadata": {
    "slideshow": {
     "slide_type": "fragment"
    }
   },
   "outputs": [],
   "source": [
    "@profiler_utils.profile\n",
    "def list_generator() -> list[int]:\n",
    "    return list(range(SIZE))"
   ]
  },
  {
   "cell_type": "code",
   "execution_count": 16,
   "metadata": {
    "slideshow": {
     "slide_type": "fragment"
    }
   },
   "outputs": [
    {
     "name": "stdout",
     "output_type": "stream",
     "text": [
      "for_in_range:\n",
      " max_memory: 0.005 mb\n",
      " exec time: 3,681.350 ms\n"
     ]
    }
   ],
   "source": [
    "for_in_range()"
   ]
  },
  {
   "cell_type": "code",
   "execution_count": 17,
   "metadata": {
    "scrolled": true,
    "slideshow": {
     "slide_type": "fragment"
    }
   },
   "outputs": [
    {
     "name": "stdout",
     "output_type": "stream",
     "text": [
      "range_generator:\n",
      " max_memory: 0.000 mb\n",
      " exec time: 0.008 ms\n",
      "run_through_iterable:\n",
      " max_memory: 0.007 mb\n",
      " exec time: 4,220.290 ms\n"
     ]
    }
   ],
   "source": [
    "gen1 = range_generator()\n",
    "run_through_iterable(gen1)"
   ]
  },
  {
   "cell_type": "code",
   "execution_count": 18,
   "metadata": {
    "slideshow": {
     "slide_type": "fragment"
    }
   },
   "outputs": [
    {
     "name": "stdout",
     "output_type": "stream",
     "text": [
      "list_generator:\n",
      " max_memory: 359.997 mb\n",
      " exec time: 3,938.272 ms\n",
      "run_through_iterable:\n",
      " max_memory: 0.002 mb\n",
      " exec time: 71.386 ms\n"
     ]
    }
   ],
   "source": [
    "gen2 = list_generator()\n",
    "run_through_iterable(gen2)"
   ]
  },
  {
   "cell_type": "code",
   "execution_count": 19,
   "metadata": {
    "slideshow": {
     "slide_type": "slide"
    }
   },
   "outputs": [],
   "source": [
    "def yield_from_layer(items: collections_abc.Iterable[T]) -> collections_abc.Iterator[T]:\n",
    "    yield from items"
   ]
  },
  {
   "cell_type": "code",
   "execution_count": 20,
   "metadata": {
    "slideshow": {
     "slide_type": "fragment"
    }
   },
   "outputs": [],
   "source": [
    "def yield_for_layer(items: collections_abc.Iterable[T]) -> collections_abc.Iterator[T]:\n",
    "    for item in items:\n",
    "        yield item"
   ]
  },
  {
   "cell_type": "code",
   "execution_count": 21,
   "metadata": {
    "slideshow": {
     "slide_type": "fragment"
    }
   },
   "outputs": [],
   "source": [
    "def expression_layer(items: collections_abc.Iterable[T]) -> collections_abc.Iterator[T]:\n",
    "    return (item for item in items)"
   ]
  },
  {
   "cell_type": "code",
   "execution_count": 22,
   "metadata": {
    "slideshow": {
     "slide_type": "subslide"
    }
   },
   "outputs": [
    {
     "name": "stdout",
     "output_type": "stream",
     "text": [
      "for_in_range:\n",
      " max_memory: 0.002 mb\n",
      " exec time: 3,686.507 ms\n"
     ]
    }
   ],
   "source": [
    "for_in_range()"
   ]
  },
  {
   "cell_type": "code",
   "execution_count": 23,
   "metadata": {
    "slideshow": {
     "slide_type": "fragment"
    }
   },
   "outputs": [
    {
     "name": "stdout",
     "output_type": "stream",
     "text": [
      "run_through_iterable:\n",
      " max_memory: 0.006 mb\n",
      " exec time: 5,527.732 ms\n"
     ]
    }
   ],
   "source": [
    "run_through_iterable(\n",
    "    yield_from_layer(yield_from_layer(yield_from_layer(yield_from_layer(yield_from_layer(range(SIZE))))))\n",
    ")"
   ]
  },
  {
   "cell_type": "code",
   "execution_count": 24,
   "metadata": {
    "slideshow": {
     "slide_type": "fragment"
    }
   },
   "outputs": [
    {
     "name": "stdout",
     "output_type": "stream",
     "text": [
      "run_through_iterable:\n",
      " max_memory: 0.005 mb\n",
      " exec time: 5,574.007 ms\n"
     ]
    }
   ],
   "source": [
    "run_through_iterable(\n",
    "    yield_for_layer(yield_for_layer(yield_for_layer(yield_for_layer(yield_for_layer(range(SIZE))))))\n",
    ")"
   ]
  },
  {
   "cell_type": "code",
   "execution_count": 25,
   "metadata": {
    "pycharm": {
     "name": "#%%\n"
    },
    "slideshow": {
     "slide_type": "fragment"
    }
   },
   "outputs": [
    {
     "name": "stdout",
     "output_type": "stream",
     "text": [
      "run_through_iterable:\n",
      " max_memory: 0.004 mb\n",
      " exec time: 5,430.608 ms\n"
     ]
    }
   ],
   "source": [
    "run_through_iterable(\n",
    "    expression_layer(expression_layer(expression_layer(expression_layer(expression_layer(range(SIZE)))))),\n",
    ")\n"
   ]
  }
 ],
 "metadata": {
  "celltoolbar": "Slideshow",
  "kernelspec": {
   "display_name": "Python 3 (ipykernel)",
   "language": "python",
   "name": "python3"
  },
  "language_info": {
   "codemirror_mode": {
    "name": "ipython",
    "version": 3
   },
   "file_extension": ".py",
   "mimetype": "text/x-python",
   "name": "python",
   "nbconvert_exporter": "python",
   "pygments_lexer": "ipython3",
   "version": "3.10.4"
  }
 },
 "nbformat": 4,
 "nbformat_minor": 1
}